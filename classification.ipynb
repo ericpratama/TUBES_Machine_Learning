{
  "nbformat": 4,
  "nbformat_minor": 0,
  "metadata": {
    "colab": {
      "name": "classification.ipynb",
      "provenance": []
    },
    "kernelspec": {
      "name": "python3",
      "display_name": "Python 3"
    }
  },
  "cells": [
    {
      "cell_type": "code",
      "metadata": {
        "id": "Da_xePgNBVsB",
        "colab_type": "code",
        "colab": {}
      },
      "source": [
        "#import library yang akan digunakan\n",
        "import pandas as pd\n",
        "import numpy as np\n",
        "import copy"
      ],
      "execution_count": 0,
      "outputs": []
    },
    {
      "cell_type": "code",
      "metadata": {
        "id": "rTQ1mylUGZp7",
        "colab_type": "code",
        "colab": {}
      },
      "source": [
        "#import library matplotlib untuk plotting data\n",
        "import matplotlib.pyplot as plt\n",
        "import matplotlib as mpl\n",
        "mpl.rcParams['figure.dpi'] = 150\n",
        "from random import randint\n",
        "%matplotlib inline\n",
        "import seaborn as sns\n",
        "sns.set_style(\"whitegrid\")\n",
        "import matplotlib.pyplot as plt\n",
        "%matplotlib inline"
      ],
      "execution_count": 0,
      "outputs": []
    },
    {
      "cell_type": "code",
      "metadata": {
        "id": "foBtp0f-DPWu",
        "colab_type": "code",
        "outputId": "edd1f713-b5aa-44d1-837c-e1b8004c0f13",
        "colab": {
          "base_uri": "https://localhost:8080/",
          "height": 34
        }
      },
      "source": [
        "#import data frame yang disimpan di google drive\n",
        "df = pd.read_csv('drive/My Drive/malin/used_cars.csv')\n",
        "#cek shape dataframe\n",
        "df.shape"
      ],
      "execution_count": 20,
      "outputs": [
        {
          "output_type": "execute_result",
          "data": {
            "text/plain": [
              "(20001, 26)"
            ]
          },
          "metadata": {
            "tags": []
          },
          "execution_count": 20
        }
      ]
    },
    {
      "cell_type": "code",
      "metadata": {
        "id": "eAMlJLLeD3Yl",
        "colab_type": "code",
        "outputId": "3a0b1056-d4ea-4558-fe6b-60e1bde29650",
        "colab": {
          "base_uri": "https://localhost:8080/",
          "height": 1000
        }
      },
      "source": [
        "#set pandas untuk mengatur jumlah row, dan column yang di show\n",
        "pd.set_option('display.max_rows', None)\n",
        "pd.set_option('display.max_columns', 26)\n",
        "df.head(10)"
      ],
      "execution_count": 21,
      "outputs": [
        {
          "output_type": "execute_result",
          "data": {
            "text/html": [
              "<div>\n",
              "<style scoped>\n",
              "    .dataframe tbody tr th:only-of-type {\n",
              "        vertical-align: middle;\n",
              "    }\n",
              "\n",
              "    .dataframe tbody tr th {\n",
              "        vertical-align: top;\n",
              "    }\n",
              "\n",
              "    .dataframe thead th {\n",
              "        text-align: right;\n",
              "    }\n",
              "</style>\n",
              "<table border=\"1\" class=\"dataframe\">\n",
              "  <thead>\n",
              "    <tr style=\"text-align: right;\">\n",
              "      <th></th>\n",
              "      <th>Unnamed: 0</th>\n",
              "      <th>id</th>\n",
              "      <th>url</th>\n",
              "      <th>region</th>\n",
              "      <th>region_url</th>\n",
              "      <th>price</th>\n",
              "      <th>year</th>\n",
              "      <th>manufacturer</th>\n",
              "      <th>model</th>\n",
              "      <th>condition</th>\n",
              "      <th>cylinders</th>\n",
              "      <th>fuel</th>\n",
              "      <th>odometer</th>\n",
              "      <th>title_status</th>\n",
              "      <th>transmission</th>\n",
              "      <th>vin</th>\n",
              "      <th>drive</th>\n",
              "      <th>size</th>\n",
              "      <th>type</th>\n",
              "      <th>paint_color</th>\n",
              "      <th>image_url</th>\n",
              "      <th>description</th>\n",
              "      <th>county</th>\n",
              "      <th>state</th>\n",
              "      <th>lat</th>\n",
              "      <th>long</th>\n",
              "    </tr>\n",
              "  </thead>\n",
              "  <tbody>\n",
              "    <tr>\n",
              "      <th>0</th>\n",
              "      <td>0</td>\n",
              "      <td>7034441763</td>\n",
              "      <td>https://saltlakecity.craigslist.org/cto/d/salt...</td>\n",
              "      <td>salt lake city</td>\n",
              "      <td>https://saltlakecity.craigslist.org</td>\n",
              "      <td>17899</td>\n",
              "      <td>2012.0</td>\n",
              "      <td>volkswagen</td>\n",
              "      <td>golf r</td>\n",
              "      <td>excellent</td>\n",
              "      <td>4 cylinders</td>\n",
              "      <td>gas</td>\n",
              "      <td>63500.0</td>\n",
              "      <td>clean</td>\n",
              "      <td>manual</td>\n",
              "      <td>WVWPF7AJ6CW316713</td>\n",
              "      <td>4wd</td>\n",
              "      <td>compact</td>\n",
              "      <td>hatchback</td>\n",
              "      <td>black</td>\n",
              "      <td>https://images.craigslist.org/00G0G_fTLDWM5Xyv...</td>\n",
              "      <td>PRICE REDUCED!   -Garage kept -Low Miles (63K)...</td>\n",
              "      <td>NaN</td>\n",
              "      <td>ut</td>\n",
              "      <td>40.7372</td>\n",
              "      <td>-111.858</td>\n",
              "    </tr>\n",
              "    <tr>\n",
              "      <th>1</th>\n",
              "      <td>1</td>\n",
              "      <td>7034440610</td>\n",
              "      <td>https://saltlakecity.craigslist.org/ctd/d/sand...</td>\n",
              "      <td>salt lake city</td>\n",
              "      <td>https://saltlakecity.craigslist.org</td>\n",
              "      <td>0</td>\n",
              "      <td>2016.0</td>\n",
              "      <td>ford</td>\n",
              "      <td>f-150</td>\n",
              "      <td>excellent</td>\n",
              "      <td>NaN</td>\n",
              "      <td>gas</td>\n",
              "      <td>10.0</td>\n",
              "      <td>clean</td>\n",
              "      <td>automatic</td>\n",
              "      <td>1FTMF1EP3GKF13544</td>\n",
              "      <td>4wd</td>\n",
              "      <td>NaN</td>\n",
              "      <td>NaN</td>\n",
              "      <td>NaN</td>\n",
              "      <td>https://images.craigslist.org/00v0v_7Cu0buIofU...</td>\n",
              "      <td>Drive it home today. Call (Or Text) us now !!C...</td>\n",
              "      <td>NaN</td>\n",
              "      <td>ut</td>\n",
              "      <td>40.5881</td>\n",
              "      <td>-111.884</td>\n",
              "    </tr>\n",
              "    <tr>\n",
              "      <th>2</th>\n",
              "      <td>2</td>\n",
              "      <td>7034440588</td>\n",
              "      <td>https://saltlakecity.craigslist.org/ctd/d/sand...</td>\n",
              "      <td>salt lake city</td>\n",
              "      <td>https://saltlakecity.craigslist.org</td>\n",
              "      <td>46463</td>\n",
              "      <td>2015.0</td>\n",
              "      <td>gmc</td>\n",
              "      <td>sierra 1500</td>\n",
              "      <td>excellent</td>\n",
              "      <td>NaN</td>\n",
              "      <td>gas</td>\n",
              "      <td>7554.0</td>\n",
              "      <td>clean</td>\n",
              "      <td>automatic</td>\n",
              "      <td>3GTU2WEC6FG228025</td>\n",
              "      <td>4wd</td>\n",
              "      <td>NaN</td>\n",
              "      <td>NaN</td>\n",
              "      <td>white</td>\n",
              "      <td>https://images.craigslist.org/01515_lPvJ9bfbdY...</td>\n",
              "      <td>Drive it home today. Call (Or Text) us now !!C...</td>\n",
              "      <td>NaN</td>\n",
              "      <td>ut</td>\n",
              "      <td>40.5881</td>\n",
              "      <td>-111.884</td>\n",
              "    </tr>\n",
              "    <tr>\n",
              "      <th>3</th>\n",
              "      <td>3</td>\n",
              "      <td>7034440546</td>\n",
              "      <td>https://saltlakecity.craigslist.org/ctd/d/sand...</td>\n",
              "      <td>salt lake city</td>\n",
              "      <td>https://saltlakecity.craigslist.org</td>\n",
              "      <td>0</td>\n",
              "      <td>2016.0</td>\n",
              "      <td>ford</td>\n",
              "      <td>f-150</td>\n",
              "      <td>excellent</td>\n",
              "      <td>NaN</td>\n",
              "      <td>gas</td>\n",
              "      <td>10.0</td>\n",
              "      <td>clean</td>\n",
              "      <td>automatic</td>\n",
              "      <td>1FTEX1EF6GKD25447</td>\n",
              "      <td>4wd</td>\n",
              "      <td>NaN</td>\n",
              "      <td>NaN</td>\n",
              "      <td>NaN</td>\n",
              "      <td>https://images.craigslist.org/00T0T_6Rjfp3NS4O...</td>\n",
              "      <td>Drive it home today. Call (Or Text) us now !!C...</td>\n",
              "      <td>NaN</td>\n",
              "      <td>ut</td>\n",
              "      <td>40.5881</td>\n",
              "      <td>-111.884</td>\n",
              "    </tr>\n",
              "    <tr>\n",
              "      <th>4</th>\n",
              "      <td>4</td>\n",
              "      <td>7034406932</td>\n",
              "      <td>https://saltlakecity.craigslist.org/ctd/d/evan...</td>\n",
              "      <td>salt lake city</td>\n",
              "      <td>https://saltlakecity.craigslist.org</td>\n",
              "      <td>49999</td>\n",
              "      <td>2018.0</td>\n",
              "      <td>ford</td>\n",
              "      <td>f-450</td>\n",
              "      <td>NaN</td>\n",
              "      <td>NaN</td>\n",
              "      <td>diesel</td>\n",
              "      <td>70150.0</td>\n",
              "      <td>clean</td>\n",
              "      <td>automatic</td>\n",
              "      <td>1FT8W4DT8GEA90427</td>\n",
              "      <td>4wd</td>\n",
              "      <td>NaN</td>\n",
              "      <td>pickup</td>\n",
              "      <td>white</td>\n",
              "      <td>https://images.craigslist.org/00W0W_8yIUwRBXXd...</td>\n",
              "      <td>2018 Ford F-350 F350 F 350 SD Lariat Crew Cab ...</td>\n",
              "      <td>NaN</td>\n",
              "      <td>ut</td>\n",
              "      <td>40.3744</td>\n",
              "      <td>-104.694</td>\n",
              "    </tr>\n",
              "    <tr>\n",
              "      <th>5</th>\n",
              "      <td>5</td>\n",
              "      <td>7034406582</td>\n",
              "      <td>https://saltlakecity.craigslist.org/ctd/d/evan...</td>\n",
              "      <td>salt lake city</td>\n",
              "      <td>https://saltlakecity.craigslist.org</td>\n",
              "      <td>13999</td>\n",
              "      <td>2009.0</td>\n",
              "      <td>ram</td>\n",
              "      <td>NaN</td>\n",
              "      <td>NaN</td>\n",
              "      <td>NaN</td>\n",
              "      <td>gas</td>\n",
              "      <td>120057.0</td>\n",
              "      <td>clean</td>\n",
              "      <td>automatic</td>\n",
              "      <td>1D3HV18P89S777871</td>\n",
              "      <td>4wd</td>\n",
              "      <td>NaN</td>\n",
              "      <td>pickup</td>\n",
              "      <td>silver</td>\n",
              "      <td>https://images.craigslist.org/00y0y_RR9x2lk7eh...</td>\n",
              "      <td>2009 RAM 1500 4WD Quad Cab 140.5\" ST\"     Offe...</td>\n",
              "      <td>NaN</td>\n",
              "      <td>ut</td>\n",
              "      <td>40.3744</td>\n",
              "      <td>-104.694</td>\n",
              "    </tr>\n",
              "    <tr>\n",
              "      <th>6</th>\n",
              "      <td>6</td>\n",
              "      <td>7034405619</td>\n",
              "      <td>https://saltlakecity.craigslist.org/ctd/d/evan...</td>\n",
              "      <td>salt lake city</td>\n",
              "      <td>https://saltlakecity.craigslist.org</td>\n",
              "      <td>34500</td>\n",
              "      <td>2017.0</td>\n",
              "      <td>ford</td>\n",
              "      <td>f-350</td>\n",
              "      <td>NaN</td>\n",
              "      <td>NaN</td>\n",
              "      <td>diesel</td>\n",
              "      <td>95484.0</td>\n",
              "      <td>clean</td>\n",
              "      <td>automatic</td>\n",
              "      <td>1FT8W3BT2HEE98744</td>\n",
              "      <td>4wd</td>\n",
              "      <td>NaN</td>\n",
              "      <td>pickup</td>\n",
              "      <td>white</td>\n",
              "      <td>https://images.craigslist.org/00k0k_lIBatiU90s...</td>\n",
              "      <td>2017 Ford Super Duty F-350 F350 F 350 SRW Crew...</td>\n",
              "      <td>NaN</td>\n",
              "      <td>ut</td>\n",
              "      <td>40.3744</td>\n",
              "      <td>-104.694</td>\n",
              "    </tr>\n",
              "    <tr>\n",
              "      <th>7</th>\n",
              "      <td>7</td>\n",
              "      <td>7034405349</td>\n",
              "      <td>https://saltlakecity.craigslist.org/ctd/d/evan...</td>\n",
              "      <td>salt lake city</td>\n",
              "      <td>https://saltlakecity.craigslist.org</td>\n",
              "      <td>14500</td>\n",
              "      <td>2007.0</td>\n",
              "      <td>gmc</td>\n",
              "      <td>sierra</td>\n",
              "      <td>NaN</td>\n",
              "      <td>NaN</td>\n",
              "      <td>gas</td>\n",
              "      <td>89340.0</td>\n",
              "      <td>clean</td>\n",
              "      <td>automatic</td>\n",
              "      <td>1GTGK13UX7F108498</td>\n",
              "      <td>4wd</td>\n",
              "      <td>NaN</td>\n",
              "      <td>pickup</td>\n",
              "      <td>NaN</td>\n",
              "      <td>https://images.craigslist.org/00202_jTNQzQVWZs...</td>\n",
              "      <td>2007 GMC Sierra 1500 SLE Crew Cab 4WD     Offe...</td>\n",
              "      <td>NaN</td>\n",
              "      <td>ut</td>\n",
              "      <td>40.3744</td>\n",
              "      <td>-104.694</td>\n",
              "    </tr>\n",
              "    <tr>\n",
              "      <th>8</th>\n",
              "      <td>8</td>\n",
              "      <td>7034404595</td>\n",
              "      <td>https://saltlakecity.craigslist.org/ctd/d/evan...</td>\n",
              "      <td>salt lake city</td>\n",
              "      <td>https://saltlakecity.craigslist.org</td>\n",
              "      <td>12500</td>\n",
              "      <td>2013.0</td>\n",
              "      <td>ford</td>\n",
              "      <td>f-250</td>\n",
              "      <td>NaN</td>\n",
              "      <td>NaN</td>\n",
              "      <td>gas</td>\n",
              "      <td>226031.0</td>\n",
              "      <td>clean</td>\n",
              "      <td>automatic</td>\n",
              "      <td>1FT7X2B63DEA44140</td>\n",
              "      <td>4wd</td>\n",
              "      <td>NaN</td>\n",
              "      <td>pickup</td>\n",
              "      <td>white</td>\n",
              "      <td>https://images.craigslist.org/00F0F_99lwfqrZWc...</td>\n",
              "      <td>2013 Ford F-250 F250 F 250 SD XLT 4WD     Offe...</td>\n",
              "      <td>NaN</td>\n",
              "      <td>ut</td>\n",
              "      <td>40.3744</td>\n",
              "      <td>-104.694</td>\n",
              "    </tr>\n",
              "    <tr>\n",
              "      <th>9</th>\n",
              "      <td>9</td>\n",
              "      <td>7034401857</td>\n",
              "      <td>https://saltlakecity.craigslist.org/ctd/d/evan...</td>\n",
              "      <td>salt lake city</td>\n",
              "      <td>https://saltlakecity.craigslist.org</td>\n",
              "      <td>34500</td>\n",
              "      <td>2012.0</td>\n",
              "      <td>ram</td>\n",
              "      <td>NaN</td>\n",
              "      <td>NaN</td>\n",
              "      <td>NaN</td>\n",
              "      <td>diesel</td>\n",
              "      <td>128153.0</td>\n",
              "      <td>clean</td>\n",
              "      <td>automatic</td>\n",
              "      <td>3C6UD5PL2CG168524</td>\n",
              "      <td>4wd</td>\n",
              "      <td>NaN</td>\n",
              "      <td>pickup</td>\n",
              "      <td>silver</td>\n",
              "      <td>https://images.craigslist.org/00a0a_1cDSDtUsLA...</td>\n",
              "      <td>2012 RAM 2500 4WD Mega Cab 160.5\" Laramie Long...</td>\n",
              "      <td>NaN</td>\n",
              "      <td>ut</td>\n",
              "      <td>40.3744</td>\n",
              "      <td>-104.694</td>\n",
              "    </tr>\n",
              "  </tbody>\n",
              "</table>\n",
              "</div>"
            ],
            "text/plain": [
              "   Unnamed: 0          id                                                url  \\\n",
              "0           0  7034441763  https://saltlakecity.craigslist.org/cto/d/salt...   \n",
              "1           1  7034440610  https://saltlakecity.craigslist.org/ctd/d/sand...   \n",
              "2           2  7034440588  https://saltlakecity.craigslist.org/ctd/d/sand...   \n",
              "3           3  7034440546  https://saltlakecity.craigslist.org/ctd/d/sand...   \n",
              "4           4  7034406932  https://saltlakecity.craigslist.org/ctd/d/evan...   \n",
              "5           5  7034406582  https://saltlakecity.craigslist.org/ctd/d/evan...   \n",
              "6           6  7034405619  https://saltlakecity.craigslist.org/ctd/d/evan...   \n",
              "7           7  7034405349  https://saltlakecity.craigslist.org/ctd/d/evan...   \n",
              "8           8  7034404595  https://saltlakecity.craigslist.org/ctd/d/evan...   \n",
              "9           9  7034401857  https://saltlakecity.craigslist.org/ctd/d/evan...   \n",
              "\n",
              "           region                           region_url  price    year  \\\n",
              "0  salt lake city  https://saltlakecity.craigslist.org  17899  2012.0   \n",
              "1  salt lake city  https://saltlakecity.craigslist.org      0  2016.0   \n",
              "2  salt lake city  https://saltlakecity.craigslist.org  46463  2015.0   \n",
              "3  salt lake city  https://saltlakecity.craigslist.org      0  2016.0   \n",
              "4  salt lake city  https://saltlakecity.craigslist.org  49999  2018.0   \n",
              "5  salt lake city  https://saltlakecity.craigslist.org  13999  2009.0   \n",
              "6  salt lake city  https://saltlakecity.craigslist.org  34500  2017.0   \n",
              "7  salt lake city  https://saltlakecity.craigslist.org  14500  2007.0   \n",
              "8  salt lake city  https://saltlakecity.craigslist.org  12500  2013.0   \n",
              "9  salt lake city  https://saltlakecity.craigslist.org  34500  2012.0   \n",
              "\n",
              "  manufacturer        model  condition    cylinders    fuel  odometer  \\\n",
              "0   volkswagen       golf r  excellent  4 cylinders     gas   63500.0   \n",
              "1         ford        f-150  excellent          NaN     gas      10.0   \n",
              "2          gmc  sierra 1500  excellent          NaN     gas    7554.0   \n",
              "3         ford        f-150  excellent          NaN     gas      10.0   \n",
              "4         ford        f-450        NaN          NaN  diesel   70150.0   \n",
              "5          ram          NaN        NaN          NaN     gas  120057.0   \n",
              "6         ford        f-350        NaN          NaN  diesel   95484.0   \n",
              "7          gmc       sierra        NaN          NaN     gas   89340.0   \n",
              "8         ford        f-250        NaN          NaN     gas  226031.0   \n",
              "9          ram          NaN        NaN          NaN  diesel  128153.0   \n",
              "\n",
              "  title_status transmission                vin drive     size       type  \\\n",
              "0        clean       manual  WVWPF7AJ6CW316713   4wd  compact  hatchback   \n",
              "1        clean    automatic  1FTMF1EP3GKF13544   4wd      NaN        NaN   \n",
              "2        clean    automatic  3GTU2WEC6FG228025   4wd      NaN        NaN   \n",
              "3        clean    automatic  1FTEX1EF6GKD25447   4wd      NaN        NaN   \n",
              "4        clean    automatic  1FT8W4DT8GEA90427   4wd      NaN     pickup   \n",
              "5        clean    automatic  1D3HV18P89S777871   4wd      NaN     pickup   \n",
              "6        clean    automatic  1FT8W3BT2HEE98744   4wd      NaN     pickup   \n",
              "7        clean    automatic  1GTGK13UX7F108498   4wd      NaN     pickup   \n",
              "8        clean    automatic  1FT7X2B63DEA44140   4wd      NaN     pickup   \n",
              "9        clean    automatic  3C6UD5PL2CG168524   4wd      NaN     pickup   \n",
              "\n",
              "  paint_color                                          image_url  \\\n",
              "0       black  https://images.craigslist.org/00G0G_fTLDWM5Xyv...   \n",
              "1         NaN  https://images.craigslist.org/00v0v_7Cu0buIofU...   \n",
              "2       white  https://images.craigslist.org/01515_lPvJ9bfbdY...   \n",
              "3         NaN  https://images.craigslist.org/00T0T_6Rjfp3NS4O...   \n",
              "4       white  https://images.craigslist.org/00W0W_8yIUwRBXXd...   \n",
              "5      silver  https://images.craigslist.org/00y0y_RR9x2lk7eh...   \n",
              "6       white  https://images.craigslist.org/00k0k_lIBatiU90s...   \n",
              "7         NaN  https://images.craigslist.org/00202_jTNQzQVWZs...   \n",
              "8       white  https://images.craigslist.org/00F0F_99lwfqrZWc...   \n",
              "9      silver  https://images.craigslist.org/00a0a_1cDSDtUsLA...   \n",
              "\n",
              "                                         description  county state      lat  \\\n",
              "0  PRICE REDUCED!   -Garage kept -Low Miles (63K)...     NaN    ut  40.7372   \n",
              "1  Drive it home today. Call (Or Text) us now !!C...     NaN    ut  40.5881   \n",
              "2  Drive it home today. Call (Or Text) us now !!C...     NaN    ut  40.5881   \n",
              "3  Drive it home today. Call (Or Text) us now !!C...     NaN    ut  40.5881   \n",
              "4  2018 Ford F-350 F350 F 350 SD Lariat Crew Cab ...     NaN    ut  40.3744   \n",
              "5  2009 RAM 1500 4WD Quad Cab 140.5\" ST\"     Offe...     NaN    ut  40.3744   \n",
              "6  2017 Ford Super Duty F-350 F350 F 350 SRW Crew...     NaN    ut  40.3744   \n",
              "7  2007 GMC Sierra 1500 SLE Crew Cab 4WD     Offe...     NaN    ut  40.3744   \n",
              "8  2013 Ford F-250 F250 F 250 SD XLT 4WD     Offe...     NaN    ut  40.3744   \n",
              "9  2012 RAM 2500 4WD Mega Cab 160.5\" Laramie Long...     NaN    ut  40.3744   \n",
              "\n",
              "      long  \n",
              "0 -111.858  \n",
              "1 -111.884  \n",
              "2 -111.884  \n",
              "3 -111.884  \n",
              "4 -104.694  \n",
              "5 -104.694  \n",
              "6 -104.694  \n",
              "7 -104.694  \n",
              "8 -104.694  \n",
              "9 -104.694  "
            ]
          },
          "metadata": {
            "tags": []
          },
          "execution_count": 21
        }
      ]
    },
    {
      "cell_type": "code",
      "metadata": {
        "id": "IpuqOeQxEB7C",
        "colab_type": "code",
        "colab": {}
      },
      "source": [
        "problem = df[['manufacturer','price','year','condition','odometer','lat','long','state']].copy() #memilih inputan / feature yang dipilih sesuai dengan masalah yang akan dianalisis"
      ],
      "execution_count": 0,
      "outputs": []
    },
    {
      "cell_type": "code",
      "metadata": {
        "id": "hfUru5QwGoTb",
        "colab_type": "code",
        "outputId": "a5d5e543-1225-4c86-e6ab-0f5d15918b2a",
        "colab": {
          "base_uri": "https://localhost:8080/",
          "height": 371
        }
      },
      "source": [
        "#untuk melihat persebaran outlier\n",
        "mpl.rcParams['figure.dpi'] = 100\n",
        "plt.figure(figsize=(5, 5))\n",
        "f, axes = plt.subplots(1, 3)\n",
        "sns.boxplot(y=problem[\"price\"], ax=axes[0])\n",
        "sns.boxplot(y=problem[\"year\"], ax=axes[1])\n",
        "sns.boxplot(y=problem[\"odometer\"], ax=axes[2])\n",
        "plt.subplots_adjust(wspace=1)"
      ],
      "execution_count": 23,
      "outputs": [
        {
          "output_type": "display_data",
          "data": {
            "text/plain": [
              "<Figure size 500x500 with 0 Axes>"
            ]
          },
          "metadata": {
            "tags": []
          }
        },
        {
          "output_type": "display_data",
          "data": {
            "image/png": "[encoded data removed]",
            "text/plain": [
              "<Figure size 600x400 with 3 Axes>"
            ]
          },
          "metadata": {
            "tags": [],
            "needs_background": "light"
          }
        }
      ]
    },
    {
      "cell_type": "code",
      "metadata": {
        "id": "M9An6PXHFkVs",
        "colab_type": "code",
        "outputId": "71415f68-eb78-45d9-f096-291a573ca9bb",
        "colab": {
          "base_uri": "https://localhost:8080/",
          "height": 168
        }
      },
      "source": [
        "#data exploration 2\n",
        "\n",
        "#mengecek apakah masih ada nilai null pada dataframe\n",
        "problem.isnull().sum()\n",
        "#------------------------\n",
        "\n",
        "#Code jumlah baris dataframe\n",
        "#problem.shape\n",
        "#-------------------------\n",
        "\n",
        "#melihat tipe data \n",
        "#problem.dtypes\n",
        "#-------------------------\n"
      ],
      "execution_count": 24,
      "outputs": [
        {
          "output_type": "execute_result",
          "data": {
            "text/plain": [
              "manufacturer     705\n",
              "price              0\n",
              "year              12\n",
              "condition       9152\n",
              "odometer        2389\n",
              "lat             1031\n",
              "long            1031\n",
              "state              0\n",
              "dtype: int64"
            ]
          },
          "metadata": {
            "tags": []
          },
          "execution_count": 24
        }
      ]
    },
    {
      "cell_type": "code",
      "metadata": {
        "id": "-D2Za4UnUILg",
        "colab_type": "code",
        "colab": {}
      },
      "source": [
        "#data cleansing\n",
        "#c1,c2,c3 digunakan untuk mendrop value yang outlier\n",
        "c1 = problem.drop(problem.loc[problem['price']==0].index, inplace=True)  \n",
        "c2 = problem.drop(problem.loc[problem['price']>=31400].index, inplace=True)\n",
        "c3 = problem.drop(problem.loc[problem['year']<= 1996].index, inplace=True)\n",
        "c4 = problem.drop(problem.loc[problem['odometer']>= 232000].index, inplace=True)\n",
        "\n",
        "\n",
        "#mengisi row nan/null dengan most recently call\n",
        "problem = problem.fillna(problem.mode().iloc[0])\n",
        "\n",
        "#dop untuk row yang baerisi null\n",
        "# problem = problem.dropna()"
      ],
      "execution_count": 0,
      "outputs": []
    },
    {
      "cell_type": "code",
      "metadata": {
        "colab_type": "code",
        "outputId": "a4e4cf8e-ee6b-47bd-9c2a-82ca1feb7f0c",
        "id": "3mkctbJwtUXM",
        "colab": {
          "base_uri": "https://localhost:8080/",
          "height": 356
        }
      },
      "source": [
        "#untuk melihat persebaran data setelah outlier dihilangkan\n",
        "mpl.rcParams['figure.dpi'] = 100\n",
        "plt.figure(figsize=(5, 5))\n",
        "f, axes = plt.subplots(1, 3)\n",
        "sns.boxplot(y=problem[\"price\"], ax=axes[0])\n",
        "sns.boxplot(y=problem[\"year\"], ax=axes[1])\n",
        "sns.boxplot(y=problem[\"odometer\"], ax=axes[2])\n",
        "plt.subplots_adjust(wspace=1)"
      ],
      "execution_count": 26,
      "outputs": [
        {
          "output_type": "display_data",
          "data": {
            "text/plain": [
              "<Figure size 500x500 with 0 Axes>"
            ]
          },
          "metadata": {
            "tags": []
          }
        },
        {
          "output_type": "display_data",
          "data": {
            "image/png": "[encoded data removed]",
            "text/plain": [
              "<Figure size 600x400 with 3 Axes>"
            ]
          },
          "metadata": {
            "tags": [],
            "needs_background": "light"
          }
        }
      ]
    },
    {
      "cell_type": "code",
      "metadata": {
        "id": "nxezPWWuHeS9",
        "colab_type": "code",
        "colab": {}
      },
      "source": [
        "mobil = problem[['price','year','condition','odometer','lat','long','state']].copy()"
      ],
      "execution_count": 0,
      "outputs": []
    },
    {
      "cell_type": "code",
      "metadata": {
        "id": "AzFp9VJ7xZBz",
        "colab_type": "code",
        "outputId": "67c7a00f-5e5f-4e8e-a8cc-9eda5d9dc836",
        "colab": {
          "base_uri": "https://localhost:8080/",
          "height": 343
        }
      },
      "source": [
        "#mengubah condtition yang awalnya string menjadi numeric\n",
        "mobil = mobil.replace(to_replace =(\"new\",\"like new\",\"excellent\",\"good\",\"fair\",\"salvage\"),\n",
        "                 value =(2400,2000,1600,1200,800,400))\n",
        "#value =(2400,2000,1600,1200,800,400))\n",
        "\n",
        "#mengganti valut pada state yang awalnya string menjadi numeric\n",
        "mobil = mobil.replace(to_replace =(\"ut\",\"va\",\"vt\",\"wa\"), \n",
        "                 value =(11,12,13,14))\n",
        "#proses eksperimen dilakukan disini yakni membuat kategori untuk kolom price pada data frame\n",
        "#mengelompokkan harga mobil\n",
        "# cut_labels_4 = ['murah', 'sedang', 'mahal']\n",
        "cut_labels_4 = [1, 2, 3]\n",
        "cut_bins = [0, 5000, 15000, 31400]\n",
        "mobil['range_price'] = pd.cut(mobil['price'], bins=cut_bins, labels=cut_labels_4)\n",
        "\n",
        "mobil.head(10)"
      ],
      "execution_count": 28,
      "outputs": [
        {
          "output_type": "execute_result",
          "data": {
            "text/html": [
              "<div>\n",
              "<style scoped>\n",
              "    .dataframe tbody tr th:only-of-type {\n",
              "        vertical-align: middle;\n",
              "    }\n",
              "\n",
              "    .dataframe tbody tr th {\n",
              "        vertical-align: top;\n",
              "    }\n",
              "\n",
              "    .dataframe thead th {\n",
              "        text-align: right;\n",
              "    }\n",
              "</style>\n",
              "<table border=\"1\" class=\"dataframe\">\n",
              "  <thead>\n",
              "    <tr style=\"text-align: right;\">\n",
              "      <th></th>\n",
              "      <th>price</th>\n",
              "      <th>year</th>\n",
              "      <th>condition</th>\n",
              "      <th>odometer</th>\n",
              "      <th>lat</th>\n",
              "      <th>long</th>\n",
              "      <th>state</th>\n",
              "      <th>range_price</th>\n",
              "    </tr>\n",
              "  </thead>\n",
              "  <tbody>\n",
              "    <tr>\n",
              "      <th>0</th>\n",
              "      <td>17899</td>\n",
              "      <td>2012.0</td>\n",
              "      <td>1600</td>\n",
              "      <td>63500.0</td>\n",
              "      <td>40.7372</td>\n",
              "      <td>-111.858</td>\n",
              "      <td>11</td>\n",
              "      <td>3</td>\n",
              "    </tr>\n",
              "    <tr>\n",
              "      <th>5</th>\n",
              "      <td>13999</td>\n",
              "      <td>2009.0</td>\n",
              "      <td>1600</td>\n",
              "      <td>120057.0</td>\n",
              "      <td>40.3744</td>\n",
              "      <td>-104.694</td>\n",
              "      <td>11</td>\n",
              "      <td>2</td>\n",
              "    </tr>\n",
              "    <tr>\n",
              "      <th>7</th>\n",
              "      <td>14500</td>\n",
              "      <td>2007.0</td>\n",
              "      <td>1600</td>\n",
              "      <td>89340.0</td>\n",
              "      <td>40.3744</td>\n",
              "      <td>-104.694</td>\n",
              "      <td>11</td>\n",
              "      <td>2</td>\n",
              "    </tr>\n",
              "    <tr>\n",
              "      <th>8</th>\n",
              "      <td>12500</td>\n",
              "      <td>2013.0</td>\n",
              "      <td>1600</td>\n",
              "      <td>226031.0</td>\n",
              "      <td>40.3744</td>\n",
              "      <td>-104.694</td>\n",
              "      <td>11</td>\n",
              "      <td>2</td>\n",
              "    </tr>\n",
              "    <tr>\n",
              "      <th>11</th>\n",
              "      <td>16500</td>\n",
              "      <td>2013.0</td>\n",
              "      <td>1600</td>\n",
              "      <td>156385.0</td>\n",
              "      <td>40.3744</td>\n",
              "      <td>-104.694</td>\n",
              "      <td>11</td>\n",
              "      <td>3</td>\n",
              "    </tr>\n",
              "    <tr>\n",
              "      <th>12</th>\n",
              "      <td>14500</td>\n",
              "      <td>2007.0</td>\n",
              "      <td>1600</td>\n",
              "      <td>135287.0</td>\n",
              "      <td>40.3744</td>\n",
              "      <td>-104.694</td>\n",
              "      <td>11</td>\n",
              "      <td>2</td>\n",
              "    </tr>\n",
              "    <tr>\n",
              "      <th>13</th>\n",
              "      <td>27999</td>\n",
              "      <td>2015.0</td>\n",
              "      <td>1600</td>\n",
              "      <td>73612.0</td>\n",
              "      <td>40.3744</td>\n",
              "      <td>-104.694</td>\n",
              "      <td>11</td>\n",
              "      <td>3</td>\n",
              "    </tr>\n",
              "    <tr>\n",
              "      <th>15</th>\n",
              "      <td>24999</td>\n",
              "      <td>2014.0</td>\n",
              "      <td>1600</td>\n",
              "      <td>158156.0</td>\n",
              "      <td>40.3744</td>\n",
              "      <td>-104.694</td>\n",
              "      <td>11</td>\n",
              "      <td>3</td>\n",
              "    </tr>\n",
              "    <tr>\n",
              "      <th>17</th>\n",
              "      <td>8999</td>\n",
              "      <td>2002.0</td>\n",
              "      <td>1600</td>\n",
              "      <td>179098.0</td>\n",
              "      <td>40.3744</td>\n",
              "      <td>-104.694</td>\n",
              "      <td>11</td>\n",
              "      <td>2</td>\n",
              "    </tr>\n",
              "    <tr>\n",
              "      <th>18</th>\n",
              "      <td>5999</td>\n",
              "      <td>2003.0</td>\n",
              "      <td>1600</td>\n",
              "      <td>185220.0</td>\n",
              "      <td>40.3744</td>\n",
              "      <td>-104.694</td>\n",
              "      <td>11</td>\n",
              "      <td>2</td>\n",
              "    </tr>\n",
              "  </tbody>\n",
              "</table>\n",
              "</div>"
            ],
            "text/plain": [
              "    price    year  condition  odometer      lat     long  state range_price\n",
              "0   17899  2012.0       1600   63500.0  40.7372 -111.858     11           3\n",
              "5   13999  2009.0       1600  120057.0  40.3744 -104.694     11           2\n",
              "7   14500  2007.0       1600   89340.0  40.3744 -104.694     11           2\n",
              "8   12500  2013.0       1600  226031.0  40.3744 -104.694     11           2\n",
              "11  16500  2013.0       1600  156385.0  40.3744 -104.694     11           3\n",
              "12  14500  2007.0       1600  135287.0  40.3744 -104.694     11           2\n",
              "13  27999  2015.0       1600   73612.0  40.3744 -104.694     11           3\n",
              "15  24999  2014.0       1600  158156.0  40.3744 -104.694     11           3\n",
              "17   8999  2002.0       1600  179098.0  40.3744 -104.694     11           2\n",
              "18   5999  2003.0       1600  185220.0  40.3744 -104.694     11           2"
            ]
          },
          "metadata": {
            "tags": []
          },
          "execution_count": 28
        }
      ]
    },
    {
      "cell_type": "code",
      "metadata": {
        "id": "HgovqUFI4_Hc",
        "colab_type": "code",
        "outputId": "e38f5988-4fc5-4ce6-a1ba-dcc5aa5fcb06",
        "colab": {
          "base_uri": "https://localhost:8080/",
          "height": 343
        }
      },
      "source": [
        "#memilih inputan / fitur yang akan digunakan untuk classification\n",
        "#cek = mobil[['year','condition','range_price','state']].copy()\n",
        "cek = mobil[['year','condition','range_price','state']].copy()\n",
        "cek.head(10)"
      ],
      "execution_count": 29,
      "outputs": [
        {
          "output_type": "execute_result",
          "data": {
            "text/html": [
              "<div>\n",
              "<style scoped>\n",
              "    .dataframe tbody tr th:only-of-type {\n",
              "        vertical-align: middle;\n",
              "    }\n",
              "\n",
              "    .dataframe tbody tr th {\n",
              "        vertical-align: top;\n",
              "    }\n",
              "\n",
              "    .dataframe thead th {\n",
              "        text-align: right;\n",
              "    }\n",
              "</style>\n",
              "<table border=\"1\" class=\"dataframe\">\n",
              "  <thead>\n",
              "    <tr style=\"text-align: right;\">\n",
              "      <th></th>\n",
              "      <th>year</th>\n",
              "      <th>condition</th>\n",
              "      <th>range_price</th>\n",
              "      <th>state</th>\n",
              "    </tr>\n",
              "  </thead>\n",
              "  <tbody>\n",
              "    <tr>\n",
              "      <th>0</th>\n",
              "      <td>2012.0</td>\n",
              "      <td>1600</td>\n",
              "      <td>3</td>\n",
              "      <td>11</td>\n",
              "    </tr>\n",
              "    <tr>\n",
              "      <th>5</th>\n",
              "      <td>2009.0</td>\n",
              "      <td>1600</td>\n",
              "      <td>2</td>\n",
              "      <td>11</td>\n",
              "    </tr>\n",
              "    <tr>\n",
              "      <th>7</th>\n",
              "      <td>2007.0</td>\n",
              "      <td>1600</td>\n",
              "      <td>2</td>\n",
              "      <td>11</td>\n",
              "    </tr>\n",
              "    <tr>\n",
              "      <th>8</th>\n",
              "      <td>2013.0</td>\n",
              "      <td>1600</td>\n",
              "      <td>2</td>\n",
              "      <td>11</td>\n",
              "    </tr>\n",
              "    <tr>\n",
              "      <th>11</th>\n",
              "      <td>2013.0</td>\n",
              "      <td>1600</td>\n",
              "      <td>3</td>\n",
              "      <td>11</td>\n",
              "    </tr>\n",
              "    <tr>\n",
              "      <th>12</th>\n",
              "      <td>2007.0</td>\n",
              "      <td>1600</td>\n",
              "      <td>2</td>\n",
              "      <td>11</td>\n",
              "    </tr>\n",
              "    <tr>\n",
              "      <th>13</th>\n",
              "      <td>2015.0</td>\n",
              "      <td>1600</td>\n",
              "      <td>3</td>\n",
              "      <td>11</td>\n",
              "    </tr>\n",
              "    <tr>\n",
              "      <th>15</th>\n",
              "      <td>2014.0</td>\n",
              "      <td>1600</td>\n",
              "      <td>3</td>\n",
              "      <td>11</td>\n",
              "    </tr>\n",
              "    <tr>\n",
              "      <th>17</th>\n",
              "      <td>2002.0</td>\n",
              "      <td>1600</td>\n",
              "      <td>2</td>\n",
              "      <td>11</td>\n",
              "    </tr>\n",
              "    <tr>\n",
              "      <th>18</th>\n",
              "      <td>2003.0</td>\n",
              "      <td>1600</td>\n",
              "      <td>2</td>\n",
              "      <td>11</td>\n",
              "    </tr>\n",
              "  </tbody>\n",
              "</table>\n",
              "</div>"
            ],
            "text/plain": [
              "      year  condition range_price  state\n",
              "0   2012.0       1600           3     11\n",
              "5   2009.0       1600           2     11\n",
              "7   2007.0       1600           2     11\n",
              "8   2013.0       1600           2     11\n",
              "11  2013.0       1600           3     11\n",
              "12  2007.0       1600           2     11\n",
              "13  2015.0       1600           3     11\n",
              "15  2014.0       1600           3     11\n",
              "17  2002.0       1600           2     11\n",
              "18  2003.0       1600           2     11"
            ]
          },
          "metadata": {
            "tags": []
          },
          "execution_count": 29
        }
      ]
    },
    {
      "cell_type": "code",
      "metadata": {
        "id": "_qQlMxw7StTF",
        "colab_type": "code",
        "colab": {}
      },
      "source": [
        "# cek.to_csv('classification_eksperimen1.csv')"
      ],
      "execution_count": 0,
      "outputs": []
    },
    {
      "cell_type": "code",
      "metadata": {
        "id": "V5NN5ZTIDf_q",
        "colab_type": "code",
        "colab": {}
      },
      "source": [
        "#import SVM library from sklearn\n",
        "import sklearn as sk\n",
        "from sklearn import svm\n",
        "\n",
        "#import Random Forest library from sklearn\n",
        "import sklearn as sk\n",
        "from sklearn.ensemble import RandomForestClassifier"
      ],
      "execution_count": 0,
      "outputs": []
    },
    {
      "cell_type": "code",
      "metadata": {
        "id": "tq2f5ZkRrGy4",
        "colab_type": "code",
        "colab": {}
      },
      "source": [
        "Y = cek.iloc[:,3]  #mengambik row 3 + 1 untuk dijadikan class, atau yan akan diprediksi\n",
        "X = cek.iloc[:,:3] #mengambil 3 row pertama untuk dijadikan data train"
      ],
      "execution_count": 0,
      "outputs": []
    },
    {
      "cell_type": "code",
      "metadata": {
        "id": "d59cAny15e6W",
        "colab_type": "code",
        "outputId": "e8c33a3a-0609-43f0-f30a-2ea8b44a528e",
        "colab": {
          "base_uri": "https://localhost:8080/",
          "height": 67
        }
      },
      "source": [
        "#classification model, SVM library\n",
        "modelsvm = svm.LinearSVC()\n",
        "modelsvm.fit(X,Y)\n",
        "modelsvm.predict(X.iloc[int(cek.shape[0]*0.8):,:]) #memilih 80% row data menjadi data train, lalu 20% nya akan menjadi datatest\n",
        "print('akurasi model SVM : ',round(modelsvm.score(X,Y), 4)) #show akurasi model"
      ],
      "execution_count": 33,
      "outputs": [
        {
          "output_type": "stream",
          "text": [
            "akurasi model SVM :  0.5345\n"
          ],
          "name": "stdout"
        },
        {
          "output_type": "stream",
          "text": [
            "/usr/local/lib/python3.6/dist-packages/sklearn/svm/_base.py:947: ConvergenceWarning: Liblinear failed to converge, increase the number of iterations.\n",
            "  \"the number of iterations.\", ConvergenceWarning)\n"
          ],
          "name": "stderr"
        }
      ]
    },
    {
      "cell_type": "code",
      "metadata": {
        "id": "Mfj86U_leeqj",
        "colab_type": "code",
        "outputId": "a515a832-9fe0-4dc6-935f-db0d59342e92",
        "colab": {
          "base_uri": "https://localhost:8080/",
          "height": 34
        }
      },
      "source": [
        "#classification model, Random Forest\n",
        "modelrf = RandomForestClassifier(n_estimators=100, max_depth=2, random_state=0)\n",
        "modelrf.fit(X, Y)\n",
        "modelrf.predict(X.iloc[int(cek.shape[0]*0.8):,:]) #memilih 80% row data menjadi data train, lalu 20% nya akan menjadi datatest\n",
        "print('akurasi model Random Forest : ',round(modelrf.score(X,Y), 4))  #show akurasi model"
      ],
      "execution_count": 34,
      "outputs": [
        {
          "output_type": "stream",
          "text": [
            "akurasi model Random Forest :  0.6205\n"
          ],
          "name": "stdout"
        }
      ]
    }
  ]
}
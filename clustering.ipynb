{
  "nbformat": 4,
  "nbformat_minor": 0,
  "metadata": {
    "colab": {
      "name": "clustering.ipynb",
      "provenance": [],
      "collapsed_sections": []
    },
    "kernelspec": {
      "name": "python3",
      "display_name": "Python 3"
    }
  },
  "cells": [
    {
      "cell_type": "code",
      "metadata": {
        "id": "UF8WkTqyRkxq",
        "colab_type": "code",
        "colab": {}
      },
      "source": [
        "#import library\n",
        "import pandas as pd #pandas untuk menangani dataframe\n",
        "import numpy as np  #numpy untuk menghitung mean, standar deviasi, dan fung\n",
        "import random       #untuk generate bilangan random\n",
        "import copy         #untuk penggunaan copy\n",
        "import math         #untuk penggunaan fungsi matematika seperti akar"
      ],
      "execution_count": 0,
      "outputs": []
    },
    {
      "cell_type": "code",
      "metadata": {
        "id": "mBoO7x6tGWSL",
        "colab_type": "code",
        "outputId": "6de9ecfc-8db1-4745-c1ad-cca488b797da",
        "colab": {
          "base_uri": "https://localhost:8080/",
          "height": 70
        }
      },
      "source": [
        "import matplotlib.pyplot as plt\n",
        "import matplotlib as mpl\n",
        "mpl.rcParams['figure.dpi'] = 150\n",
        "from random import randint\n",
        "%matplotlib inline\n",
        "import seaborn as sns\n",
        "sns.set_style(\"whitegrid\")\n",
        "import matplotlib.pyplot as plt\n",
        "%matplotlib inline"
      ],
      "execution_count": 0,
      "outputs": [
        {
          "output_type": "stream",
          "text": [
            "/usr/local/lib/python3.6/dist-packages/statsmodels/tools/_testing.py:19: FutureWarning: pandas.util.testing is deprecated. Use the functions in the public API at pandas.testing instead.\n",
            "  import pandas.util.testing as tm\n"
          ],
          "name": "stderr"
        }
      ]
    },
    {
      "cell_type": "code",
      "metadata": {
        "id": "rauMz0eBRrAK",
        "colab_type": "code",
        "outputId": "02cea108-554d-4b77-f9e7-122392414a73",
        "colab": {
          "base_uri": "https://localhost:8080/",
          "height": 34
        }
      },
      "source": [
        "#data preperation yakni mengimport dataset\n",
        "df = pd.read_csv('drive/My Drive/malin/used_cars.csv')\n",
        "#mengecek banyak baris x kolom\n",
        "df.shape"
      ],
      "execution_count": 0,
      "outputs": [
        {
          "output_type": "execute_result",
          "data": {
            "text/plain": [
              "(20001, 26)"
            ]
          },
          "metadata": {
            "tags": []
          },
          "execution_count": 3
        }
      ]
    },
    {
      "cell_type": "code",
      "metadata": {
        "id": "sIuX3RvdnAS9",
        "colab_type": "code",
        "colab": {}
      },
      "source": [
        "#setting pandas agar dapat menampilkan semua kolom baris dan kolom\n",
        "pd.set_option('display.max_rows', None)  #None untuk show all rows\n",
        "pd.set_option('display.max_columns', 26) #26 unutk show 26 kolom"
      ],
      "execution_count": 0,
      "outputs": []
    },
    {
      "cell_type": "code",
      "metadata": {
        "id": "2BuTgq6KRsZv",
        "colab_type": "code",
        "outputId": "13eb9d61-a7fc-4e61-b11f-8143520fa18a",
        "colab": {
          "base_uri": "https://localhost:8080/",
          "height": 470
        }
      },
      "source": [
        "#data exploration\n",
        "\n",
        "#mengecek apakah masih ada nilai null pada dataframe\n",
        "df.isnull().values.any()\n",
        "#------------------------\n",
        "\n",
        "#Code jumlah baris dataframe\n",
        "df.shape\n",
        "#-------------------------\n",
        "\n",
        "#melihat tipe data \n",
        "df.dtypes\n",
        "#-------------------------\n",
        "\n",
        "#Code count missing values\n",
        "df.isnull().sum()\n",
        "#--------------------------\n"
      ],
      "execution_count": 0,
      "outputs": [
        {
          "output_type": "execute_result",
          "data": {
            "text/plain": [
              "Unnamed: 0          0\n",
              "id                  0\n",
              "url                 0\n",
              "region              0\n",
              "region_url          0\n",
              "price               0\n",
              "year               12\n",
              "manufacturer      705\n",
              "model             265\n",
              "condition        9152\n",
              "cylinders        7085\n",
              "fuel               73\n",
              "odometer         2389\n",
              "title_status      110\n",
              "transmission      190\n",
              "vin              6645\n",
              "drive            4642\n",
              "size            13115\n",
              "type             3659\n",
              "paint_color      5514\n",
              "image_url           0\n",
              "description         0\n",
              "county          20001\n",
              "state               0\n",
              "lat              1031\n",
              "long             1031\n",
              "dtype: int64"
            ]
          },
          "metadata": {
            "tags": []
          },
          "execution_count": 5
        }
      ]
    },
    {
      "cell_type": "code",
      "metadata": {
        "id": "U0EVgNzgrx0P",
        "colab_type": "code",
        "colab": {}
      },
      "source": [
        "#memilih fitur yang akan digunakan\n",
        "problem = df[['manufacturer','price','year']].copy() #memilih inputan / feature yang dipilih sesuai dengan masalah yang akan dianalisis"
      ],
      "execution_count": 0,
      "outputs": []
    },
    {
      "cell_type": "code",
      "metadata": {
        "id": "OCSZ0lYrL_xa",
        "colab_type": "code",
        "outputId": "3f2ff984-6a8c-4dd1-b495-e3112de1cdcf",
        "colab": {
          "base_uri": "https://localhost:8080/",
          "height": 371
        }
      },
      "source": [
        "#untuk melihat persebaran data dan melihat outlier\n",
        "mpl.rcParams['figure.dpi'] = 100\n",
        "plt.figure(figsize=(5, 5))\n",
        "f, axes = plt.subplots(1, 2)\n",
        "sns.boxplot(y=problem[\"price\"], ax=axes[0])\n",
        "sns.boxplot(y=problem[\"year\"], ax=axes[1])\n",
        "plt.subplots_adjust(wspace=1)"
      ],
      "execution_count": 0,
      "outputs": [
        {
          "output_type": "display_data",
          "data": {
            "text/plain": [
              "<Figure size 500x500 with 0 Axes>"
            ]
          },
          "metadata": {
            "tags": []
          }
        },
        {
          "output_type": "display_data",
          "data": {
            "image/png": "[encoded data removed]",
            "text/plain": [
              "<Figure size 600x400 with 2 Axes>"
            ]
          },
          "metadata": {
            "tags": [],
            "needs_background": "light"
          }
        }
      ]
    },
    {
      "cell_type": "code",
      "metadata": {
        "id": "WDUOzwvTnsM9",
        "colab_type": "code",
        "outputId": "0dcb2d48-a79c-407a-d002-6216ba94e378",
        "colab": {
          "base_uri": "https://localhost:8080/",
          "height": 34
        }
      },
      "source": [
        "#data cleansing\n",
        "#ini merupakan bagian dari eksperimen yang menangani outlier.\n",
        "#untuk eksperimen 1, dan 2 jalankan c1,c2,c3\n",
        "#untuk eksperimen 3 dan 3 comment ci,c2,c3\n",
        "#untuk eksperimen 3,dan 4 tinggal di comment saja c1,c2,c2 nya\n",
        "c1 = problem.drop(problem.loc[problem['price']==0].index, inplace=True)\n",
        "c2 = problem.drop(problem.loc[problem['price']>=36400].index, inplace=True)\n",
        "c3 = problem.drop(problem.loc[problem['year']<= 1996].index, inplace=True)\n",
        "\n",
        "#eksperimen 2, dan 4\n",
        "#mengisi row nan dengan most recently call\n",
        "problem = problem.fillna(problem.mode().iloc[0])\n",
        "\n",
        "#eksperimen 1, dan 3\n",
        "#dop untuk row yang baerisi null\n",
        "#problem = problem.dropna()\n",
        "\n",
        "#mengecek apakah masih ada nilai null pada dataframe\n",
        "problem.isnull().values.any()"
      ],
      "execution_count": 0,
      "outputs": [
        {
          "output_type": "execute_result",
          "data": {
            "text/plain": [
              "False"
            ]
          },
          "metadata": {
            "tags": []
          },
          "execution_count": 8
        }
      ]
    },
    {
      "cell_type": "code",
      "metadata": {
        "id": "ypOJFrEZuc4s",
        "colab_type": "code",
        "outputId": "3dd56062-f435-4724-8e17-b2cedc487839",
        "colab": {
          "base_uri": "https://localhost:8080/",
          "height": 34
        }
      },
      "source": [
        "#cek shape dataframe setelah di cleansing dari data null dan outlier\n",
        "problem.shape"
      ],
      "execution_count": 0,
      "outputs": [
        {
          "output_type": "execute_result",
          "data": {
            "text/plain": [
              "(16085, 3)"
            ]
          },
          "metadata": {
            "tags": []
          },
          "execution_count": 9
        }
      ]
    },
    {
      "cell_type": "code",
      "metadata": {
        "id": "DYo62CRXuB7r",
        "colab_type": "code",
        "outputId": "263af8c4-f8f6-46d6-b6b9-994fb346ff43",
        "colab": {
          "base_uri": "https://localhost:8080/",
          "height": 343
        }
      },
      "source": [
        "problem.head(10)"
      ],
      "execution_count": 0,
      "outputs": [
        {
          "output_type": "execute_result",
          "data": {
            "text/html": [
              "<div>\n",
              "<style scoped>\n",
              "    .dataframe tbody tr th:only-of-type {\n",
              "        vertical-align: middle;\n",
              "    }\n",
              "\n",
              "    .dataframe tbody tr th {\n",
              "        vertical-align: top;\n",
              "    }\n",
              "\n",
              "    .dataframe thead th {\n",
              "        text-align: right;\n",
              "    }\n",
              "</style>\n",
              "<table border=\"1\" class=\"dataframe\">\n",
              "  <thead>\n",
              "    <tr style=\"text-align: right;\">\n",
              "      <th></th>\n",
              "      <th>manufacturer</th>\n",
              "      <th>price</th>\n",
              "      <th>year</th>\n",
              "    </tr>\n",
              "  </thead>\n",
              "  <tbody>\n",
              "    <tr>\n",
              "      <th>0</th>\n",
              "      <td>volkswagen</td>\n",
              "      <td>17899</td>\n",
              "      <td>2012.0</td>\n",
              "    </tr>\n",
              "    <tr>\n",
              "      <th>5</th>\n",
              "      <td>ram</td>\n",
              "      <td>13999</td>\n",
              "      <td>2009.0</td>\n",
              "    </tr>\n",
              "    <tr>\n",
              "      <th>6</th>\n",
              "      <td>ford</td>\n",
              "      <td>34500</td>\n",
              "      <td>2017.0</td>\n",
              "    </tr>\n",
              "    <tr>\n",
              "      <th>7</th>\n",
              "      <td>gmc</td>\n",
              "      <td>14500</td>\n",
              "      <td>2007.0</td>\n",
              "    </tr>\n",
              "    <tr>\n",
              "      <th>8</th>\n",
              "      <td>ford</td>\n",
              "      <td>12500</td>\n",
              "      <td>2013.0</td>\n",
              "    </tr>\n",
              "    <tr>\n",
              "      <th>9</th>\n",
              "      <td>ram</td>\n",
              "      <td>34500</td>\n",
              "      <td>2012.0</td>\n",
              "    </tr>\n",
              "    <tr>\n",
              "      <th>11</th>\n",
              "      <td>gmc</td>\n",
              "      <td>16500</td>\n",
              "      <td>2013.0</td>\n",
              "    </tr>\n",
              "    <tr>\n",
              "      <th>12</th>\n",
              "      <td>toyota</td>\n",
              "      <td>14500</td>\n",
              "      <td>2007.0</td>\n",
              "    </tr>\n",
              "    <tr>\n",
              "      <th>13</th>\n",
              "      <td>gmc</td>\n",
              "      <td>27999</td>\n",
              "      <td>2015.0</td>\n",
              "    </tr>\n",
              "    <tr>\n",
              "      <th>14</th>\n",
              "      <td>ram</td>\n",
              "      <td>14999</td>\n",
              "      <td>2004.0</td>\n",
              "    </tr>\n",
              "  </tbody>\n",
              "</table>\n",
              "</div>"
            ],
            "text/plain": [
              "   manufacturer  price    year\n",
              "0    volkswagen  17899  2012.0\n",
              "5           ram  13999  2009.0\n",
              "6          ford  34500  2017.0\n",
              "7           gmc  14500  2007.0\n",
              "8          ford  12500  2013.0\n",
              "9           ram  34500  2012.0\n",
              "11          gmc  16500  2013.0\n",
              "12       toyota  14500  2007.0\n",
              "13          gmc  27999  2015.0\n",
              "14          ram  14999  2004.0"
            ]
          },
          "metadata": {
            "tags": []
          },
          "execution_count": 10
        }
      ]
    },
    {
      "cell_type": "code",
      "metadata": {
        "id": "yY_r4DMsOPW9",
        "colab_type": "code",
        "outputId": "4ec51938-594d-42ff-d9ac-441af11df312",
        "colab": {
          "base_uri": "https://localhost:8080/",
          "height": 356
        }
      },
      "source": [
        "mpl.rcParams['figure.dpi'] = 100\n",
        "plt.figure(figsize=(5, 5))\n",
        "f, axes = plt.subplots(1, 2)\n",
        "sns.boxplot(y=problem[\"price\"], ax=axes[0])\n",
        "sns.boxplot(y=problem[\"year\"], ax=axes[1])\n",
        "plt.subplots_adjust(wspace=1)"
      ],
      "execution_count": 0,
      "outputs": [
        {
          "output_type": "display_data",
          "data": {
            "text/plain": [
              "<Figure size 500x500 with 0 Axes>"
            ]
          },
          "metadata": {
            "tags": []
          }
        },
        {
          "output_type": "display_data",
          "data": {
            "image/png": "[encoded data removed]",
            "text/plain": [
              "<Figure size 600x400 with 2 Axes>"
            ]
          },
          "metadata": {
            "tags": [],
            "needs_background": "light"
          }
        }
      ]
    },
    {
      "cell_type": "code",
      "metadata": {
        "id": "URugGBctRtqT",
        "colab_type": "code",
        "outputId": "768a0f24-db36-42a2-b19a-ed627035301b",
        "colab": {
          "base_uri": "https://localhost:8080/",
          "height": 34
        }
      },
      "source": [
        "#memilih masalah yang dianalisis yakni mobil bermerk je\n",
        "mobil = problem.loc[problem['manufacturer'] == 'jeep']\n",
        "mobil.head(10)\n",
        "mobil.shape"
      ],
      "execution_count": 0,
      "outputs": [
        {
          "output_type": "execute_result",
          "data": {
            "text/plain": [
              "(823, 3)"
            ]
          },
          "metadata": {
            "tags": []
          },
          "execution_count": 12
        }
      ]
    },
    {
      "cell_type": "code",
      "metadata": {
        "id": "_oLSO9ieMkJQ",
        "colab_type": "code",
        "outputId": "9bcccaaa-bf15-437d-f713-3e85f83c8e07",
        "colab": {
          "base_uri": "https://localhost:8080/",
          "height": 360
        }
      },
      "source": [
        "mpl.rcParams['figure.dpi'] = 100\n",
        "plt.figure(figsize=(5, 5))\n",
        "f, axes = plt.subplots(1, 2)\n",
        "sns.boxplot(y=mobil[\"price\"], ax=axes[0])\n",
        "sns.boxplot(y=mobil[\"year\"], ax=axes[1])\n",
        "plt.subplots_adjust(wspace=1)"
      ],
      "execution_count": 0,
      "outputs": [
        {
          "output_type": "display_data",
          "data": {
            "text/plain": [
              "<Figure size 500x500 with 0 Axes>"
            ]
          },
          "metadata": {
            "tags": []
          }
        },
        {
          "output_type": "display_data",
          "data": {
            "image/png": "[encoded data removed]",
            "text/plain": [
              "<Figure size 600x400 with 2 Axes>"
            ]
          },
          "metadata": {
            "tags": [],
            "needs_background": "light"
          }
        }
      ]
    },
    {
      "cell_type": "code",
      "metadata": {
        "id": "j-FFflQtVFnz",
        "colab_type": "code",
        "colab": {}
      },
      "source": [
        ""
      ],
      "execution_count": 0,
      "outputs": []
    },
    {
      "cell_type": "code",
      "metadata": {
        "id": "q9AJfDyuRvWg",
        "colab_type": "code",
        "outputId": "9577cc06-9e0c-427d-ded3-cb5ce42eac40",
        "colab": {
          "base_uri": "https://localhost:8080/",
          "height": 286
        }
      },
      "source": [
        "#price dan year discalling karena memiliki rentang yang lumayaran jauh\n",
        "#karena column price dan year terdapat perbedaan jarak yang lumayan besar\n",
        "\n",
        "#ini merupakan formula untuk scalling\n",
        "#z = (x - u) / s\n",
        "#Where z adalah nilai baru, x adalah nilai asal, u adalah mean and s adalah standar deviasi\n",
        "\n",
        "#menghitung mean dan standar deviasi column price\n",
        "price_mean = np.mean(mobil['price'])\n",
        "price_sd = np.std(mobil['price'])\n",
        "\n",
        "#menghitung mean dan standar deviasi column year\n",
        "year_mean = np.mean(mobil['year'])\n",
        "year_sd = np.std(mobil['year'])\n",
        "\n",
        "#menambahkan column baru hasil dari scalling ke dalam dataframe\n",
        "mobil['price_baru'] = mobil.apply(lambda row:(row.year - year_mean) / year_sd, axis = 1)\n",
        "mobil['year_baru']  = mobil.apply(lambda row:(row.price - price_mean) / price_sd, axis = 1)\n",
        "\n",
        "#memilih column yang baru ditambahkan ke dalam data frame mobil agar bisa digunakan untuk proses yang akan datang\n",
        "mobil = copy.deepcopy(mobil[['manufacturer','price_baru','year_baru','price','year']])\n",
        "\n",
        "#memunculkan nilai min - max dari column baru\n",
        "#funsinya untuk memilih scale yang tepat dalam memplot data nanti\n",
        "print(min(mobil['price_baru']))\n",
        "print(max(mobil['price_baru']))\n",
        "print(min(mobil['year_baru']))\n",
        "print(max(mobil['year_baru']))"
      ],
      "execution_count": 0,
      "outputs": [
        {
          "output_type": "stream",
          "text": [
            "-2.571914483334051\n",
            "1.5287445194174707\n",
            "-1.754208992064726\n",
            "2.578642607501927\n"
          ],
          "name": "stdout"
        },
        {
          "output_type": "stream",
          "text": [
            "/usr/local/lib/python3.6/dist-packages/ipykernel_launcher.py:9: SettingWithCopyWarning: \n",
            "A value is trying to be set on a copy of a slice from a DataFrame.\n",
            "Try using .loc[row_indexer,col_indexer] = value instead\n",
            "\n",
            "See the caveats in the documentation: https://pandas.pydata.org/pandas-docs/stable/user_guide/indexing.html#returning-a-view-versus-a-copy\n",
            "  if __name__ == '__main__':\n",
            "/usr/local/lib/python3.6/dist-packages/ipykernel_launcher.py:10: SettingWithCopyWarning: \n",
            "A value is trying to be set on a copy of a slice from a DataFrame.\n",
            "Try using .loc[row_indexer,col_indexer] = value instead\n",
            "\n",
            "See the caveats in the documentation: https://pandas.pydata.org/pandas-docs/stable/user_guide/indexing.html#returning-a-view-versus-a-copy\n",
            "  # Remove the CWD from sys.path while we load stuff.\n"
          ],
          "name": "stderr"
        }
      ]
    },
    {
      "cell_type": "code",
      "metadata": {
        "id": "c9QNqKOrV2DR",
        "colab_type": "code",
        "colab": {}
      },
      "source": [
        "#export data hasil cleansing\n",
        "mobil.to_csv('clustering_eksperimen4.csv')"
      ],
      "execution_count": 0,
      "outputs": []
    },
    {
      "cell_type": "code",
      "metadata": {
        "id": "GsK5WwtYRyes",
        "colab_type": "code",
        "outputId": "15b2ca28-5ff8-442a-d636-02213058a9df",
        "colab": {
          "base_uri": "https://localhost:8080/",
          "height": 343
        }
      },
      "source": [
        "#menampilkan column baru hasil dari scalling\n",
        "#sekarang terlihat bahwa selisih dari kedua kolom tsb sangat kecil\n",
        "mobil.head(10)"
      ],
      "execution_count": 0,
      "outputs": [
        {
          "output_type": "execute_result",
          "data": {
            "text/html": [
              "<div>\n",
              "<style scoped>\n",
              "    .dataframe tbody tr th:only-of-type {\n",
              "        vertical-align: middle;\n",
              "    }\n",
              "\n",
              "    .dataframe tbody tr th {\n",
              "        vertical-align: top;\n",
              "    }\n",
              "\n",
              "    .dataframe thead th {\n",
              "        text-align: right;\n",
              "    }\n",
              "</style>\n",
              "<table border=\"1\" class=\"dataframe\">\n",
              "  <thead>\n",
              "    <tr style=\"text-align: right;\">\n",
              "      <th></th>\n",
              "      <th>manufacturer</th>\n",
              "      <th>price_baru</th>\n",
              "      <th>year_baru</th>\n",
              "      <th>price</th>\n",
              "      <th>year</th>\n",
              "    </tr>\n",
              "  </thead>\n",
              "  <tbody>\n",
              "    <tr>\n",
              "      <th>21</th>\n",
              "      <td>jeep</td>\n",
              "      <td>-0.521585</td>\n",
              "      <td>2.084563</td>\n",
              "      <td>31895</td>\n",
              "      <td>2008.0</td>\n",
              "    </tr>\n",
              "    <tr>\n",
              "      <th>73</th>\n",
              "      <td>jeep</td>\n",
              "      <td>0.969564</td>\n",
              "      <td>2.214553</td>\n",
              "      <td>32975</td>\n",
              "      <td>2016.0</td>\n",
              "    </tr>\n",
              "    <tr>\n",
              "      <th>76</th>\n",
              "      <td>jeep</td>\n",
              "      <td>-0.521585</td>\n",
              "      <td>0.592577</td>\n",
              "      <td>19499</td>\n",
              "      <td>2008.0</td>\n",
              "    </tr>\n",
              "    <tr>\n",
              "      <th>104</th>\n",
              "      <td>jeep</td>\n",
              "      <td>1.528745</td>\n",
              "      <td>-0.792048</td>\n",
              "      <td>7995</td>\n",
              "      <td>2019.0</td>\n",
              "    </tr>\n",
              "    <tr>\n",
              "      <th>172</th>\n",
              "      <td>jeep</td>\n",
              "      <td>-1.267159</td>\n",
              "      <td>-0.129465</td>\n",
              "      <td>13500</td>\n",
              "      <td>2004.0</td>\n",
              "    </tr>\n",
              "    <tr>\n",
              "      <th>211</th>\n",
              "      <td>jeep</td>\n",
              "      <td>-0.521585</td>\n",
              "      <td>-0.972589</td>\n",
              "      <td>6495</td>\n",
              "      <td>2008.0</td>\n",
              "    </tr>\n",
              "    <tr>\n",
              "      <th>221</th>\n",
              "      <td>jeep</td>\n",
              "      <td>-1.267159</td>\n",
              "      <td>-0.792048</td>\n",
              "      <td>7995</td>\n",
              "      <td>2004.0</td>\n",
              "    </tr>\n",
              "    <tr>\n",
              "      <th>233</th>\n",
              "      <td>jeep</td>\n",
              "      <td>0.223989</td>\n",
              "      <td>-0.009706</td>\n",
              "      <td>14495</td>\n",
              "      <td>2012.0</td>\n",
              "    </tr>\n",
              "    <tr>\n",
              "      <th>235</th>\n",
              "      <td>jeep</td>\n",
              "      <td>0.223989</td>\n",
              "      <td>-0.551328</td>\n",
              "      <td>9995</td>\n",
              "      <td>2012.0</td>\n",
              "    </tr>\n",
              "    <tr>\n",
              "      <th>244</th>\n",
              "      <td>jeep</td>\n",
              "      <td>0.783170</td>\n",
              "      <td>1.133717</td>\n",
              "      <td>23995</td>\n",
              "      <td>2015.0</td>\n",
              "    </tr>\n",
              "  </tbody>\n",
              "</table>\n",
              "</div>"
            ],
            "text/plain": [
              "    manufacturer  price_baru  year_baru  price    year\n",
              "21          jeep   -0.521585   2.084563  31895  2008.0\n",
              "73          jeep    0.969564   2.214553  32975  2016.0\n",
              "76          jeep   -0.521585   0.592577  19499  2008.0\n",
              "104         jeep    1.528745  -0.792048   7995  2019.0\n",
              "172         jeep   -1.267159  -0.129465  13500  2004.0\n",
              "211         jeep   -0.521585  -0.972589   6495  2008.0\n",
              "221         jeep   -1.267159  -0.792048   7995  2004.0\n",
              "233         jeep    0.223989  -0.009706  14495  2012.0\n",
              "235         jeep    0.223989  -0.551328   9995  2012.0\n",
              "244         jeep    0.783170   1.133717  23995  2015.0"
            ]
          },
          "metadata": {
            "tags": []
          },
          "execution_count": 16
        }
      ]
    },
    {
      "cell_type": "code",
      "metadata": {
        "id": "Wygz1DemR2Fm",
        "colab_type": "code",
        "outputId": "d3ab7966-4a9b-47e9-a211-c6446714a32b",
        "colab": {
          "base_uri": "https://localhost:8080/",
          "height": 34
        }
      },
      "source": [
        "#untuk mengecek berapa berapa baris dan kolom data yang telah discalling\n",
        "mobil.shape"
      ],
      "execution_count": 0,
      "outputs": [
        {
          "output_type": "execute_result",
          "data": {
            "text/plain": [
              "(823, 5)"
            ]
          },
          "metadata": {
            "tags": []
          },
          "execution_count": 17
        }
      ]
    },
    {
      "cell_type": "code",
      "metadata": {
        "id": "EmeH5EfIN0hi",
        "colab_type": "code",
        "outputId": "504b7811-f66d-4e73-ed9d-9bac02ad1c3a",
        "colab": {
          "base_uri": "https://localhost:8080/",
          "height": 457
        }
      },
      "source": [
        "#menampilkan data dari kolom yang baru discalling\n",
        "fig = plt.figure(figsize=(5, 5))\n",
        "plt.scatter(mobil['price_baru'], mobil['year_baru'], color='k')\n",
        "colmap = {1: 'r', 2: 'g', 3: 'b'}\n",
        "plt.xlim() #skala dipilih dari hasil analisis setelah melihat nilai min max dari kolom baru\n",
        "plt.ylim() #skala dipilih dari hasil analisis setelah melihat nilai min max dari kolom baru\n",
        "plt.xlabel(\"X Price kendaraan\")\n",
        "plt.ylabel(\"Y Tahun produksi\")\n",
        "plt.show()"
      ],
      "execution_count": 0,
      "outputs": [
        {
          "output_type": "display_data",
          "data": {
            "image/png": "[encoded data removed]",
            "text/plain": [
              "<Figure size 500x500 with 1 Axes>"
            ]
          },
          "metadata": {
            "tags": [],
            "needs_background": "light"
          }
        }
      ]
    },
    {
      "cell_type": "code",
      "metadata": {
        "id": "KF_2fliAUlsv",
        "colab_type": "code",
        "colab": {}
      },
      "source": [
        "#menentukan titik centroid berdasarkan data frame baru\n",
        "centroid = []\n",
        "centroids = []\n",
        "for i in range(3): #looping sebanyak K\n",
        "  x = random.randint(0, mobil.shape[0]) #random angka mulai dari row 1 sampai jumlah row mobil\n",
        "  centroid.append(mobil.iloc[x]['price_baru']) #memilih kolom price_baru saja pada dataframe mobil\n",
        "  centroid.append(mobil.iloc[x]['year_baru'] ) #memilih kolom year_baru saja pada dataframe mobil\n",
        "  centroids.append(centroid)\n",
        "  centroid = []\n",
        "#centroid[[],[],[]]"
      ],
      "execution_count": 0,
      "outputs": []
    },
    {
      "cell_type": "code",
      "metadata": {
        "id": "WjWfgOM1ZmSL",
        "colab_type": "code",
        "outputId": "398394cb-ccd8-4700-dd74-55c713645918",
        "colab": {
          "base_uri": "https://localhost:8080/",
          "height": 67
        }
      },
      "source": [
        "#spawn 3 titik centroid awal secara random\n",
        "centroids"
      ],
      "execution_count": 0,
      "outputs": [
        {
          "output_type": "execute_result",
          "data": {
            "text/plain": [
              "[[0.9695637463149905, -0.586834129868638],\n",
              " [0.5967765642466704, 1.1042285378141163],\n",
              " [-2.571914483334051, -0.6109061963125206]]"
            ]
          },
          "metadata": {
            "tags": []
          },
          "execution_count": 20
        }
      ]
    },
    {
      "cell_type": "code",
      "metadata": {
        "id": "xjmv9hU3U53T",
        "colab_type": "code",
        "colab": {}
      },
      "source": [
        "#rumus euclidean untuk menghitung jarak setiap titik terhadap centroid\n",
        "def eucD(p1, q1, p2, q2):\n",
        "  value_euc = (((p1 - p2) ** 2) + ((q1 - q2) ** 2))  \n",
        "  return math.sqrt(value_euc)"
      ],
      "execution_count": 0,
      "outputs": []
    },
    {
      "cell_type": "code",
      "metadata": {
        "id": "88Yf7KB7OZtw",
        "colab_type": "code",
        "colab": {}
      },
      "source": [
        "#menghitung jarak setiap titik terhadap centroid, lalu nilai terkecil nya diambil sebagai hasil cluster\n",
        "def min_centroid(price,year):\n",
        "  data_tocentroid = []\n",
        "  for i in range(len(centroids)):\n",
        "      data_tocentroid.append(eucD(price, year, centroids[i][0], centroids[i][1]))\n",
        "  new_cluster = min(data_tocentroid)\n",
        "  smallest_num = data_tocentroid.index(new_cluster) + 1\n",
        "  return smallest_num\n",
        "  #hasil return ini akan jadi hasil dari data masuk ke kelompok/clustering yang mana"
      ],
      "execution_count": 0,
      "outputs": []
    },
    {
      "cell_type": "code",
      "metadata": {
        "id": "dKMnDPYAiaBp",
        "colab_type": "code",
        "colab": {}
      },
      "source": [
        "#untuk membuat titik centroid baru\n",
        "def new_centroids(mobil_new):\n",
        "  total = mobil_new.shape[0]\n",
        "  price_sum = 0\n",
        "  year_sum = 0\n",
        "  for row in mobil_new.itertuples(index=True, name='Pandas'):\n",
        "      price_sum = price_sum + getattr(row, \"price_baru\")\n",
        "      year_sum  = year_sum + getattr(row, \"year_baru\")\n",
        "  return [price_sum/total , year_sum/total]\n",
        "  #akan me return titik centroid baru dengan kordinat (x,y) yang berisi rata\" dari price, dan rata\" dari year\n"
      ],
      "execution_count": 0,
      "outputs": []
    },
    {
      "cell_type": "code",
      "metadata": {
        "id": "OIUIx9alXSCI",
        "colab_type": "code",
        "colab": {}
      },
      "source": [
        "#K-means\n",
        "prev_centroids = []\n",
        "h_centroid = []\n",
        "while True:\n",
        "  #memanggil fungsi mencari jarak tiap titik ke centroid lalu yang terkecil masuk ke dalam dataframe pada kolom cluster\n",
        "  mobil['cluster'] = mobil.apply(lambda row:min_centroid(row.price_baru, row.year_baru),axis = 1)\n",
        "  #dilakukan proses hingga titik centroid tidak berubah lagi\n",
        "  if prev_centroids != centroids:\n",
        "    prev_centroids = copy.deepcopy(centroids)\n",
        "    h_centroid.append(prev_centroids)\n",
        "    centroids = []\n",
        "    #akan dilakukan perulanan sebanyak K, k = 3\n",
        "    for x in range(3):\n",
        "      #proses untuk mendapatkan titik centroid baru\n",
        "      centroids.append(new_centroids(mobil[mobil.cluster == int(x + 1)]))\n",
        "    cluster = copy.deepcopy(mobil['cluster'])\n",
        "  else:\n",
        "    break;"
      ],
      "execution_count": 0,
      "outputs": []
    },
    {
      "cell_type": "code",
      "metadata": {
        "id": "rL-QYoNylH-Y",
        "colab_type": "code",
        "outputId": "408c9c60-2859-4fc5-cbb8-5733d108df0a",
        "colab": {
          "base_uri": "https://localhost:8080/",
          "height": 457
        }
      },
      "source": [
        "cluster1 = copy.deepcopy(mobil[mobil.cluster == 1]) #simpan hasil cluster yang bernilai = 1 ke var cluster1\n",
        "cluster2 = copy.deepcopy(mobil[mobil.cluster == 2]) #simpan hasil cluster yang bernilai = 2 ke var cluster2\n",
        "cluster3 = copy.deepcopy(mobil[mobil.cluster == 3]) #simpan hasil cluster yang bernilai = 2 ke var cluster3\n",
        "\n",
        "\n",
        "fig = plt.figure(figsize=(5, 5))\n",
        "plt.scatter(cluster1['price_baru'], cluster1['year_baru'], color='r')\n",
        "plt.scatter(cluster2['price_baru'], cluster2['year_baru'], color='g')\n",
        "plt.scatter(cluster3['price_baru'], cluster3['year_baru'], color='b')\n",
        "for i in range(3):\n",
        "    plt.scatter(*centroids[i], color='black',s=100,edgecolor='k')\n",
        "colmap = {1: 'r', 2: 'g', 3: 'b', 4: 'c', 5: 'm', 6: 'y'}\n",
        "plt.xlabel(\"X Price kendaraan\")\n",
        "plt.ylabel(\"Y Tahun produksi\")\n",
        "plt.xlim()\n",
        "plt.ylim()\n",
        "plt.show()"
      ],
      "execution_count": 0,
      "outputs": [
        {
          "output_type": "display_data",
          "data": {
            "image/png": "[encoded data removed]",
            "text/plain": [
              "<Figure size 500x500 with 1 Axes>"
            ]
          },
          "metadata": {
            "tags": [],
            "needs_background": "light"
          }
        }
      ]
    },
    {
      "cell_type": "code",
      "metadata": {
        "id": "qX4_sbv0R89y",
        "colab_type": "code",
        "outputId": "96c2b6e4-fa04-4989-9067-8afb2fcaaab6",
        "colab": {
          "base_uri": "https://localhost:8080/",
          "height": 67
        }
      },
      "source": [
        "centroids"
      ],
      "execution_count": 0,
      "outputs": [
        {
          "output_type": "execute_result",
          "data": {
            "text/plain": [
              "[[0.049529527155523466, -0.3115465651399679],\n",
              " [0.8561334359817011, 1.0420913285394084],\n",
              " [-1.4476976410756615, -1.1236046623563893]]"
            ]
          },
          "metadata": {
            "tags": []
          },
          "execution_count": 26
        }
      ]
    },
    {
      "cell_type": "code",
      "metadata": {
        "id": "Dy7rUlp1lZoB",
        "colab_type": "code",
        "outputId": "de264ee0-c137-436e-9eb8-40f9c3d0886d",
        "colab": {
          "base_uri": "https://localhost:8080/",
          "height": 343
        }
      },
      "source": [
        "#untuk melihat 10 data pertama dari dataframe mobil dan hasil cluster nya\n",
        "mobil.head(10)"
      ],
      "execution_count": 0,
      "outputs": [
        {
          "output_type": "execute_result",
          "data": {
            "text/html": [
              "<div>\n",
              "<style scoped>\n",
              "    .dataframe tbody tr th:only-of-type {\n",
              "        vertical-align: middle;\n",
              "    }\n",
              "\n",
              "    .dataframe tbody tr th {\n",
              "        vertical-align: top;\n",
              "    }\n",
              "\n",
              "    .dataframe thead th {\n",
              "        text-align: right;\n",
              "    }\n",
              "</style>\n",
              "<table border=\"1\" class=\"dataframe\">\n",
              "  <thead>\n",
              "    <tr style=\"text-align: right;\">\n",
              "      <th></th>\n",
              "      <th>manufacturer</th>\n",
              "      <th>price_baru</th>\n",
              "      <th>year_baru</th>\n",
              "      <th>price</th>\n",
              "      <th>year</th>\n",
              "      <th>cluster</th>\n",
              "    </tr>\n",
              "  </thead>\n",
              "  <tbody>\n",
              "    <tr>\n",
              "      <th>21</th>\n",
              "      <td>jeep</td>\n",
              "      <td>-0.521585</td>\n",
              "      <td>2.084563</td>\n",
              "      <td>31895</td>\n",
              "      <td>2008.0</td>\n",
              "      <td>2</td>\n",
              "    </tr>\n",
              "    <tr>\n",
              "      <th>73</th>\n",
              "      <td>jeep</td>\n",
              "      <td>0.969564</td>\n",
              "      <td>2.214553</td>\n",
              "      <td>32975</td>\n",
              "      <td>2016.0</td>\n",
              "      <td>2</td>\n",
              "    </tr>\n",
              "    <tr>\n",
              "      <th>76</th>\n",
              "      <td>jeep</td>\n",
              "      <td>-0.521585</td>\n",
              "      <td>0.592577</td>\n",
              "      <td>19499</td>\n",
              "      <td>2008.0</td>\n",
              "      <td>1</td>\n",
              "    </tr>\n",
              "    <tr>\n",
              "      <th>104</th>\n",
              "      <td>jeep</td>\n",
              "      <td>1.528745</td>\n",
              "      <td>-0.792048</td>\n",
              "      <td>7995</td>\n",
              "      <td>2019.0</td>\n",
              "      <td>1</td>\n",
              "    </tr>\n",
              "    <tr>\n",
              "      <th>172</th>\n",
              "      <td>jeep</td>\n",
              "      <td>-1.267159</td>\n",
              "      <td>-0.129465</td>\n",
              "      <td>13500</td>\n",
              "      <td>2004.0</td>\n",
              "      <td>3</td>\n",
              "    </tr>\n",
              "    <tr>\n",
              "      <th>211</th>\n",
              "      <td>jeep</td>\n",
              "      <td>-0.521585</td>\n",
              "      <td>-0.972589</td>\n",
              "      <td>6495</td>\n",
              "      <td>2008.0</td>\n",
              "      <td>1</td>\n",
              "    </tr>\n",
              "    <tr>\n",
              "      <th>221</th>\n",
              "      <td>jeep</td>\n",
              "      <td>-1.267159</td>\n",
              "      <td>-0.792048</td>\n",
              "      <td>7995</td>\n",
              "      <td>2004.0</td>\n",
              "      <td>3</td>\n",
              "    </tr>\n",
              "    <tr>\n",
              "      <th>233</th>\n",
              "      <td>jeep</td>\n",
              "      <td>0.223989</td>\n",
              "      <td>-0.009706</td>\n",
              "      <td>14495</td>\n",
              "      <td>2012.0</td>\n",
              "      <td>1</td>\n",
              "    </tr>\n",
              "    <tr>\n",
              "      <th>235</th>\n",
              "      <td>jeep</td>\n",
              "      <td>0.223989</td>\n",
              "      <td>-0.551328</td>\n",
              "      <td>9995</td>\n",
              "      <td>2012.0</td>\n",
              "      <td>1</td>\n",
              "    </tr>\n",
              "    <tr>\n",
              "      <th>244</th>\n",
              "      <td>jeep</td>\n",
              "      <td>0.783170</td>\n",
              "      <td>1.133717</td>\n",
              "      <td>23995</td>\n",
              "      <td>2015.0</td>\n",
              "      <td>2</td>\n",
              "    </tr>\n",
              "  </tbody>\n",
              "</table>\n",
              "</div>"
            ],
            "text/plain": [
              "    manufacturer  price_baru  year_baru  price    year  cluster\n",
              "21          jeep   -0.521585   2.084563  31895  2008.0        2\n",
              "73          jeep    0.969564   2.214553  32975  2016.0        2\n",
              "76          jeep   -0.521585   0.592577  19499  2008.0        1\n",
              "104         jeep    1.528745  -0.792048   7995  2019.0        1\n",
              "172         jeep   -1.267159  -0.129465  13500  2004.0        3\n",
              "211         jeep   -0.521585  -0.972589   6495  2008.0        1\n",
              "221         jeep   -1.267159  -0.792048   7995  2004.0        3\n",
              "233         jeep    0.223989  -0.009706  14495  2012.0        1\n",
              "235         jeep    0.223989  -0.551328   9995  2012.0        1\n",
              "244         jeep    0.783170   1.133717  23995  2015.0        2"
            ]
          },
          "metadata": {
            "tags": []
          },
          "execution_count": 28
        }
      ]
    },
    {
      "cell_type": "code",
      "metadata": {
        "id": "66mz4F7tP-_Z",
        "colab_type": "code",
        "outputId": "1be407fc-bc02-4bf8-dcf9-51838ccde4bb",
        "colab": {
          "base_uri": "https://localhost:8080/",
          "height": 67
        }
      },
      "source": [
        "prev_centroids"
      ],
      "execution_count": 0,
      "outputs": [
        {
          "output_type": "execute_result",
          "data": {
            "text/plain": [
              "[[0.049529527155523466, -0.3115465651399679],\n",
              " [0.8561334359817011, 1.0420913285394084],\n",
              " [-1.4476976410756615, -1.1236046623563893]]"
            ]
          },
          "metadata": {
            "tags": []
          },
          "execution_count": 29
        }
      ]
    }
  ]
}